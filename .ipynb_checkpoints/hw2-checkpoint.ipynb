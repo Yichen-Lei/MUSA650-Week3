{
 "cells": [
  {
   "cell_type": "markdown",
   "metadata": {},
   "source": [
    "## HW2 - Basics of ML"
   ]
  },
  {
   "cell_type": "markdown",
   "metadata": {},
   "source": [
    "### S1:\n",
    "- Load digits data\n",
    "- Visualize few images to check the data and labels\n",
    "- Normalize (scale) the data\n",
    "- Q: What is the number of features in this dataset:   ___\n",
    "- Q: What is the number of samples in this dataset:   ___"
   ]
  },
  {
   "cell_type": "code",
   "execution_count": 229,
   "metadata": {},
   "outputs": [
    {
     "name": "stdout",
     "output_type": "stream",
     "text": [
      "Automatically created module for IPython interactive environment\n"
     ]
    }
   ],
   "source": [
    "print(__doc__)\n",
    "\n",
    "import matplotlib.pyplot as plt\n",
    "from mpl_toolkits.mplot3d import Axes3D\n",
    "from sklearn import datasets\n",
    "from sklearn.decomposition import PCA\n",
    "from sklearn import metrics\n",
    "\n",
    "import pandas as pd\n",
    "\n",
    "import seaborn as sns\n",
    "import warnings\n",
    "\n",
    "warnings.filterwarnings('ignore')"
   ]
  },
  {
   "cell_type": "code",
   "execution_count": 23,
   "metadata": {},
   "outputs": [],
   "source": [
    "from sklearn.preprocessing import StandardScaler\n",
    "from sklearn.preprocessing import MinMaxScaler\n",
    "from sklearn.decomposition import PCA"
   ]
  },
  {
   "cell_type": "code",
   "execution_count": 2,
   "metadata": {},
   "outputs": [],
   "source": [
    "digits = datasets.load_digits()"
   ]
  },
  {
   "cell_type": "code",
   "execution_count": 16,
   "metadata": {},
   "outputs": [
    {
     "data": {
      "text/plain": [
       "array([ 0.,  0.,  5., 13.,  9.,  1.,  0.,  0.,  0.,  0., 13., 15., 10.,\n",
       "       15.,  5.,  0.,  0.,  3., 15.,  2.,  0., 11.,  8.,  0.,  0.,  4.,\n",
       "       12.,  0.,  0.,  8.,  8.,  0.,  0.,  5.,  8.,  0.,  0.,  9.,  8.,\n",
       "        0.,  0.,  4., 11.,  0.,  1., 12.,  7.,  0.,  0.,  2., 14.,  5.,\n",
       "       10., 12.,  0.,  0.,  0.,  0.,  6., 13., 10.,  0.,  0.,  0.])"
      ]
     },
     "execution_count": 16,
     "metadata": {},
     "output_type": "execute_result"
    }
   ],
   "source": [
    "digits.data[0]"
   ]
  },
  {
   "cell_type": "code",
   "execution_count": 14,
   "metadata": {},
   "outputs": [
    {
     "data": {
      "text/plain": [
       "(1797, 64)"
      ]
     },
     "execution_count": 14,
     "metadata": {},
     "output_type": "execute_result"
    }
   ],
   "source": [
    "digits.data.shape"
   ]
  },
  {
   "cell_type": "code",
   "execution_count": 18,
   "metadata": {},
   "outputs": [
    {
     "data": {
      "text/plain": [
       "array([0, 1, 2, ..., 8, 9, 8])"
      ]
     },
     "execution_count": 18,
     "metadata": {},
     "output_type": "execute_result"
    }
   ],
   "source": [
    "digits.target"
   ]
  },
  {
   "cell_type": "code",
   "execution_count": 20,
   "metadata": {},
   "outputs": [
    {
     "data": {
      "text/plain": [
       "<matplotlib.image.AxesImage at 0x27bb05cb0b8>"
      ]
     },
     "execution_count": 20,
     "metadata": {},
     "output_type": "execute_result"
    },
    {
     "data": {
      "image/png": "[encoded data removed]",
      "text/plain": [
       "<Figure size 432x288 with 1 Axes>"
      ]
     },
     "metadata": {
      "needs_background": "light"
     },
     "output_type": "display_data"
    }
   ],
   "source": [
    "imgTmp = digits.images[256,:,:].squeeze()\n",
    "plt.imshow(imgTmp, cmap='gray')"
   ]
  },
  {
   "cell_type": "code",
   "execution_count": 21,
   "metadata": {},
   "outputs": [
    {
     "name": "stdout",
     "output_type": "stream",
     "text": [
      "[[ 0.  0.  4. 11. 15.  8.  0.  0.]\n",
      " [ 0.  0. 13. 16. 11. 13.  7.  0.]\n",
      " [ 0.  3. 16. 12.  0.  4.  8.  0.]\n",
      " [ 0.  6. 16.  5.  0.  4.  8.  0.]\n",
      " [ 0.  7.  9.  0.  0.  9.  7.  0.]\n",
      " [ 0.  4. 10.  0.  2. 15.  2.  0.]\n",
      " [ 0.  1. 16. 12. 14. 10.  0.  0.]\n",
      " [ 0.  0.  4. 14. 14.  1.  0.  0.]]\n"
     ]
    }
   ],
   "source": [
    "print(digits.images[256,:,:].squeeze())"
   ]
  },
  {
   "cell_type": "code",
   "execution_count": 22,
   "metadata": {},
   "outputs": [
    {
     "data": {
      "text/plain": [
       "0"
      ]
     },
     "execution_count": 22,
     "metadata": {},
     "output_type": "execute_result"
    }
   ],
   "source": [
    "digits.target[256]"
   ]
  },
  {
   "cell_type": "code",
   "execution_count": 26,
   "metadata": {},
   "outputs": [],
   "source": [
    "scaler = StandardScaler()\n",
    "scaler.fit(digits.data)\n",
    "X = scaler.transform(digits.data)"
   ]
  },
  {
   "cell_type": "code",
   "execution_count": 27,
   "metadata": {},
   "outputs": [
    {
     "data": {
      "text/plain": [
       "array([[ 0.        , -0.33501649, -0.04308102, ..., -1.14664746,\n",
       "        -0.5056698 , -0.19600752],\n",
       "       [ 0.        , -0.33501649, -1.09493684, ...,  0.54856067,\n",
       "        -0.5056698 , -0.19600752],\n",
       "       [ 0.        , -0.33501649, -1.09493684, ...,  1.56568555,\n",
       "         1.6951369 , -0.19600752],\n",
       "       ...,\n",
       "       [ 0.        , -0.33501649, -0.88456568, ..., -0.12952258,\n",
       "        -0.5056698 , -0.19600752],\n",
       "       [ 0.        , -0.33501649, -0.67419451, ...,  0.8876023 ,\n",
       "        -0.5056698 , -0.19600752],\n",
       "       [ 0.        , -0.33501649,  1.00877481, ...,  0.8876023 ,\n",
       "        -0.26113572, -0.19600752]])"
      ]
     },
     "execution_count": 27,
     "metadata": {},
     "output_type": "execute_result"
    }
   ],
   "source": [
    "X"
   ]
  },
  {
   "cell_type": "markdown",
   "metadata": {},
   "source": [
    " What is the number of features in this dataset: 64\n",
    " What is the number of samples in this dataset: 1797"
   ]
  },
  {
   "cell_type": "markdown",
   "metadata": {},
   "source": [
    "### S2:\n",
    "- Apply PCA with 30 components\n",
    "- Calculate eigenvectors (PCA components) and eigenvalues for the data\n",
    "- Plot variance explained by principal components\n",
    "- Q: What is the variance explained by the first PCA component? ___\n",
    "- Q: What is the total variance explained by the first 5 PCA components? ___"
   ]
  },
  {
   "cell_type": "code",
   "execution_count": 166,
   "metadata": {},
   "outputs": [],
   "source": [
    "NUM_COMP = 30\n",
    "\n",
    "pca = PCA(n_components = NUM_COMP)\n",
    "pcaMdl = pca.fit(X)\n",
    "pcaCoor = pcaMdl.transform(X)\n",
    "dfPCA = pd.DataFrame(data = pcaCoor, columns = ['PCA_' + s for s in np.arange(0, NUM_COMP).astype(str)])"
   ]
  },
  {
   "cell_type": "code",
   "execution_count": 167,
   "metadata": {},
   "outputs": [
    {
     "data": {
      "text/html": [
       "<div>\n",
       "<style scoped>\n",
       "    .dataframe tbody tr th:only-of-type {\n",
       "        vertical-align: middle;\n",
       "    }\n",
       "\n",
       "    .dataframe tbody tr th {\n",
       "        vertical-align: top;\n",
       "    }\n",
       "\n",
       "    .dataframe thead th {\n",
       "        text-align: right;\n",
       "    }\n",
       "</style>\n",
       "<table border=\"1\" class=\"dataframe\">\n",
       "  <thead>\n",
       "    <tr style=\"text-align: right;\">\n",
       "      <th></th>\n",
       "      <th>PCA_0</th>\n",
       "      <th>PCA_1</th>\n",
       "      <th>PCA_2</th>\n",
       "      <th>PCA_3</th>\n",
       "      <th>PCA_4</th>\n",
       "      <th>PCA_5</th>\n",
       "      <th>PCA_6</th>\n",
       "      <th>PCA_7</th>\n",
       "      <th>PCA_8</th>\n",
       "      <th>PCA_9</th>\n",
       "      <th>...</th>\n",
       "      <th>PCA_54</th>\n",
       "      <th>PCA_55</th>\n",
       "      <th>PCA_56</th>\n",
       "      <th>PCA_57</th>\n",
       "      <th>PCA_58</th>\n",
       "      <th>PCA_59</th>\n",
       "      <th>PCA_60</th>\n",
       "      <th>PCA_61</th>\n",
       "      <th>PCA_62</th>\n",
       "      <th>PCA_63</th>\n",
       "    </tr>\n",
       "  </thead>\n",
       "  <tbody>\n",
       "    <tr>\n",
       "      <th>0</th>\n",
       "      <td>-1.179401e-17</td>\n",
       "      <td>-0.182234</td>\n",
       "      <td>-0.285868</td>\n",
       "      <td>-0.220370</td>\n",
       "      <td>0.025170</td>\n",
       "      <td>0.009497</td>\n",
       "      <td>0.052476</td>\n",
       "      <td>0.062695</td>\n",
       "      <td>-0.034707</td>\n",
       "      <td>-0.245534</td>\n",
       "      <td>...</td>\n",
       "      <td>-0.121247</td>\n",
       "      <td>-0.048771</td>\n",
       "      <td>0.001836</td>\n",
       "      <td>-0.160396</td>\n",
       "      <td>-0.279853</td>\n",
       "      <td>-0.194449</td>\n",
       "      <td>-0.017774</td>\n",
       "      <td>-0.103198</td>\n",
       "      <td>-0.119811</td>\n",
       "      <td>-0.071494</td>\n",
       "    </tr>\n",
       "    <tr>\n",
       "      <th>1</th>\n",
       "      <td>2.419245e-17</td>\n",
       "      <td>0.047027</td>\n",
       "      <td>0.059565</td>\n",
       "      <td>-0.020804</td>\n",
       "      <td>0.155903</td>\n",
       "      <td>0.274133</td>\n",
       "      <td>0.249733</td>\n",
       "      <td>0.145832</td>\n",
       "      <td>-0.001027</td>\n",
       "      <td>0.027619</td>\n",
       "      <td>...</td>\n",
       "      <td>-0.257752</td>\n",
       "      <td>-0.115002</td>\n",
       "      <td>0.004883</td>\n",
       "      <td>0.044498</td>\n",
       "      <td>0.081400</td>\n",
       "      <td>-0.009905</td>\n",
       "      <td>-0.251934</td>\n",
       "      <td>-0.242618</td>\n",
       "      <td>-0.165089</td>\n",
       "      <td>-0.071329</td>\n",
       "    </tr>\n",
       "    <tr>\n",
       "      <th>2</th>\n",
       "      <td>-7.204839e-17</td>\n",
       "      <td>0.023588</td>\n",
       "      <td>-0.056799</td>\n",
       "      <td>-0.040464</td>\n",
       "      <td>-0.067065</td>\n",
       "      <td>-0.091090</td>\n",
       "      <td>-0.037578</td>\n",
       "      <td>-0.022546</td>\n",
       "      <td>0.002813</td>\n",
       "      <td>-0.050642</td>\n",
       "      <td>...</td>\n",
       "      <td>-0.023179</td>\n",
       "      <td>0.102993</td>\n",
       "      <td>0.011547</td>\n",
       "      <td>0.033895</td>\n",
       "      <td>-0.051273</td>\n",
       "      <td>-0.083464</td>\n",
       "      <td>-0.062455</td>\n",
       "      <td>-0.022280</td>\n",
       "      <td>0.100366</td>\n",
       "      <td>0.092446</td>\n",
       "    </tr>\n",
       "    <tr>\n",
       "      <th>3</th>\n",
       "      <td>7.815449e-17</td>\n",
       "      <td>0.178153</td>\n",
       "      <td>0.156129</td>\n",
       "      <td>0.167800</td>\n",
       "      <td>-0.000008</td>\n",
       "      <td>-0.000520</td>\n",
       "      <td>0.043699</td>\n",
       "      <td>0.008749</td>\n",
       "      <td>0.014401</td>\n",
       "      <td>0.124042</td>\n",
       "      <td>...</td>\n",
       "      <td>-0.157440</td>\n",
       "      <td>-0.130346</td>\n",
       "      <td>0.007788</td>\n",
       "      <td>0.186418</td>\n",
       "      <td>0.165488</td>\n",
       "      <td>0.171489</td>\n",
       "      <td>-0.154438</td>\n",
       "      <td>-0.252433</td>\n",
       "      <td>-0.160720</td>\n",
       "      <td>-0.118180</td>\n",
       "    </tr>\n",
       "    <tr>\n",
       "      <th>4</th>\n",
       "      <td>3.037777e-17</td>\n",
       "      <td>-0.029978</td>\n",
       "      <td>-0.014666</td>\n",
       "      <td>0.043715</td>\n",
       "      <td>-0.139994</td>\n",
       "      <td>0.007989</td>\n",
       "      <td>0.211222</td>\n",
       "      <td>0.281817</td>\n",
       "      <td>-0.000631</td>\n",
       "      <td>0.006787</td>\n",
       "      <td>...</td>\n",
       "      <td>0.192448</td>\n",
       "      <td>0.248962</td>\n",
       "      <td>-0.051238</td>\n",
       "      <td>-0.039182</td>\n",
       "      <td>-0.033454</td>\n",
       "      <td>0.100375</td>\n",
       "      <td>-0.003773</td>\n",
       "      <td>0.094738</td>\n",
       "      <td>0.244025</td>\n",
       "      <td>0.231705</td>\n",
       "    </tr>\n",
       "  </tbody>\n",
       "</table>\n",
       "<p>5 rows × 64 columns</p>\n",
       "</div>"
      ],
      "text/plain": [
       "          PCA_0     PCA_1     PCA_2     PCA_3     PCA_4     PCA_5     PCA_6  \\\n",
       "0 -1.179401e-17 -0.182234 -0.285868 -0.220370  0.025170  0.009497  0.052476   \n",
       "1  2.419245e-17  0.047027  0.059565 -0.020804  0.155903  0.274133  0.249733   \n",
       "2 -7.204839e-17  0.023588 -0.056799 -0.040464 -0.067065 -0.091090 -0.037578   \n",
       "3  7.815449e-17  0.178153  0.156129  0.167800 -0.000008 -0.000520  0.043699   \n",
       "4  3.037777e-17 -0.029978 -0.014666  0.043715 -0.139994  0.007989  0.211222   \n",
       "\n",
       "      PCA_7     PCA_8     PCA_9  ...    PCA_54    PCA_55    PCA_56    PCA_57  \\\n",
       "0  0.062695 -0.034707 -0.245534  ... -0.121247 -0.048771  0.001836 -0.160396   \n",
       "1  0.145832 -0.001027  0.027619  ... -0.257752 -0.115002  0.004883  0.044498   \n",
       "2 -0.022546  0.002813 -0.050642  ... -0.023179  0.102993  0.011547  0.033895   \n",
       "3  0.008749  0.014401  0.124042  ... -0.157440 -0.130346  0.007788  0.186418   \n",
       "4  0.281817 -0.000631  0.006787  ...  0.192448  0.248962 -0.051238 -0.039182   \n",
       "\n",
       "     PCA_58    PCA_59    PCA_60    PCA_61    PCA_62    PCA_63  \n",
       "0 -0.279853 -0.194449 -0.017774 -0.103198 -0.119811 -0.071494  \n",
       "1  0.081400 -0.009905 -0.251934 -0.242618 -0.165089 -0.071329  \n",
       "2 -0.051273 -0.083464 -0.062455 -0.022280  0.100366  0.092446  \n",
       "3  0.165488  0.171489 -0.154438 -0.252433 -0.160720 -0.118180  \n",
       "4 -0.033454  0.100375 -0.003773  0.094738  0.244025  0.231705  \n",
       "\n",
       "[5 rows x 64 columns]"
      ]
     },
     "execution_count": 167,
     "metadata": {},
     "output_type": "execute_result"
    }
   ],
   "source": [
    "eigenvectors=pcaMdl.components_\n",
    "dfeigenvectors  = pd.DataFrame(data = eigenvectors, columns = ['PCA_' + s for s in np.arange(0, 64).astype(str)])\n",
    "dfeigenvectors.head()"
   ]
  },
  {
   "cell_type": "code",
   "execution_count": 168,
   "metadata": {},
   "outputs": [
    {
     "data": {
      "text/html": [
       "<div>\n",
       "<style scoped>\n",
       "    .dataframe tbody tr th:only-of-type {\n",
       "        vertical-align: middle;\n",
       "    }\n",
       "\n",
       "    .dataframe tbody tr th {\n",
       "        vertical-align: top;\n",
       "    }\n",
       "\n",
       "    .dataframe thead th {\n",
       "        text-align: right;\n",
       "    }\n",
       "</style>\n",
       "<table border=\"1\" class=\"dataframe\">\n",
       "  <thead>\n",
       "    <tr style=\"text-align: right;\">\n",
       "      <th></th>\n",
       "      <th>eigenvalues</th>\n",
       "    </tr>\n",
       "  </thead>\n",
       "  <tbody>\n",
       "    <tr>\n",
       "      <th>0</th>\n",
       "      <td>7.344776</td>\n",
       "    </tr>\n",
       "    <tr>\n",
       "      <th>1</th>\n",
       "      <td>5.835491</td>\n",
       "    </tr>\n",
       "    <tr>\n",
       "      <th>2</th>\n",
       "      <td>5.153961</td>\n",
       "    </tr>\n",
       "    <tr>\n",
       "      <th>3</th>\n",
       "      <td>3.966236</td>\n",
       "    </tr>\n",
       "    <tr>\n",
       "      <th>4</th>\n",
       "      <td>2.966345</td>\n",
       "    </tr>\n",
       "  </tbody>\n",
       "</table>\n",
       "</div>"
      ],
      "text/plain": [
       "   eigenvalues\n",
       "0     7.344776\n",
       "1     5.835491\n",
       "2     5.153961\n",
       "3     3.966236\n",
       "4     2.966345"
      ]
     },
     "execution_count": 168,
     "metadata": {},
     "output_type": "execute_result"
    }
   ],
   "source": [
    "eigenvalues = pcaMdl.explained_variance_\n",
    "dfeigenvalues  = pd.DataFrame(data = eigenvalues, columns = ['eigenvalues'])\n",
    "dfeigenvalues.head()"
   ]
  },
  {
   "cell_type": "code",
   "execution_count": 169,
   "metadata": {},
   "outputs": [
    {
     "name": "stdout",
     "output_type": "stream",
     "text": [
      "[0.12033916 0.09561054 0.08444415 0.06498408 0.04860155 0.0421412\n",
      " 0.03942083 0.03389381 0.02998221 0.02932002 0.02781805 0.02577055\n",
      " 0.02275302 0.02227179 0.02165227 0.01914164 0.01775545 0.01638065\n",
      " 0.01596458 0.0148919  0.01347949 0.01271903 0.01165729 0.01057577\n",
      " 0.00974792 0.00944399 0.00862925 0.00836434 0.00793454 0.00744773]\n",
      "0.8931367957350256\n"
     ]
    }
   ],
   "source": [
    "print(pcaMdl.explained_variance_ratio_)\n",
    "print(np.sum(pcaMdl.explained_variance_ratio_))"
   ]
  },
  {
   "cell_type": "code",
   "execution_count": 170,
   "metadata": {},
   "outputs": [
    {
     "data": {
      "text/plain": [
       "[<matplotlib.lines.Line2D at 0x27bb6dcdef0>]"
      ]
     },
     "execution_count": 170,
     "metadata": {},
     "output_type": "execute_result"
    },
    {
     "data": {
      "image/png": "[encoded data removed]",
      "text/plain": [
       "<Figure size 432x288 with 1 Axes>"
      ]
     },
     "metadata": {
      "needs_background": "light"
     },
     "output_type": "display_data"
    }
   ],
   "source": [
    "plt.plot(pcaMdl.explained_variance_ratio_)"
   ]
  },
  {
   "cell_type": "markdown",
   "metadata": {},
   "source": [
    "Q: What is the variance explained by the first PCA component? It explains 0.12033916% variance\n",
    "Q: What is the total variance explained by the first 5 PCA components? They explain 0.41397948% variance"
   ]
  },
  {
   "cell_type": "markdown",
   "metadata": {},
   "source": [
    "### S3:\n",
    "- Plot reconstruction error for image no. 377 using 1 to 30 PCA components\n",
    "- Visualize reconstructions of image no. 52 using [1,3,5,7,9,11,13,15] PCA components\n",
    "- Q: What is the reconstruction error for image no. 105 using 5 PCA components?  ___\n",
    "- Q: What is the image with the smallest reconstruction error using 5 PCA components? ___\n",
    "- Q: What is the image with the largest reconstruction error using 5 PCA components? ___\n",
    "- Q: What is the digit with the smallest average reconstruction error using 5 PCA components? ___\n",
    "- Q: What is the digit with the largest average reconstruction error using 5 PCA components? ___"
   ]
  },
  {
   "cell_type": "code",
   "execution_count": 50,
   "metadata": {},
   "outputs": [],
   "source": [
    "imgSize = np.array(digits.images[256,:,:].squeeze())"
   ]
  },
  {
   "cell_type": "code",
   "execution_count": 122,
   "metadata": {},
   "outputs": [
    {
     "data": {
      "text/plain": [
       "<matplotlib.image.AxesImage at 0x27bb8752b38>"
      ]
     },
     "execution_count": 122,
     "metadata": {},
     "output_type": "execute_result"
    },
    {
     "data": {
      "image/png": "[encoded data removed]",
      "text/plain": [
       "<Figure size 432x288 with 1 Axes>"
      ]
     },
     "metadata": {
      "needs_background": "light"
     },
     "output_type": "display_data"
    }
   ],
   "source": [
    "IMG_NO = 377\n",
    "NUM_COMP = 30\n",
    "\n",
    "imgRecon = np.dot(pcaCoor[IMG_NO, 0:NUM_COMP], pcaMdl.components_[0:NUM_COMP,:])\n",
    "imgRecon = scaler.inverse_transform(imgRecon)\n",
    "f1 = imgRecon.reshape(imgSize)\n",
    "plt.imshow(f1, cmap='gray')"
   ]
  },
  {
   "cell_type": "code",
   "execution_count": 123,
   "metadata": {},
   "outputs": [
    {
     "data": {
      "text/plain": [
       "array([ 4.60594909e+00, -1.20138030e+00,  1.28790044e+00,  3.40860481e+00,\n",
       "        5.38875370e-01, -8.34635325e-01, -1.38283997e+00,  8.00620921e-01,\n",
       "       -1.38259581e+00,  1.21586725e+00, -1.37229995e+00,  6.50298211e-01,\n",
       "       -3.55313114e-01,  3.19601812e-01,  7.49543553e-01,  2.12800997e-03,\n",
       "        6.95178353e-01,  7.77400175e-01, -3.25457116e-02,  7.17220503e-01,\n",
       "        5.99301919e-01, -8.61842838e-01, -5.48887500e-01, -4.72067125e-02,\n",
       "        6.50515578e-01, -3.64481811e-01, -3.37359014e-01,  1.61683514e-01,\n",
       "       -2.81443107e-01, -9.84015127e-01])"
      ]
     },
     "execution_count": 123,
     "metadata": {},
     "output_type": "execute_result"
    },
    {
     "data": {
      "image/png": "[encoded data removed]",
      "text/plain": [
       "<Figure size 432x288 with 1 Axes>"
      ]
     },
     "metadata": {
      "needs_background": "light"
     },
     "output_type": "display_data"
    }
   ],
   "source": [
    "plt.plot(pcaCoor[IMG_NO,0:NUM_COMP])\n",
    "pcaCoor[IMG_NO,0:NUM_COMP]"
   ]
  },
  {
   "cell_type": "code",
   "execution_count": 125,
   "metadata": {},
   "outputs": [
    {
     "name": "stdout",
     "output_type": "stream",
     "text": [
      "Num PCA comp: 1, reconstruction error: 28.92884672325286\n",
      "Num PCA comp: 2, reconstruction error: 28.540174381071417\n",
      "Num PCA comp: 3, reconstruction error: 27.031688683546317\n",
      "Num PCA comp: 4, reconstruction error: 21.764969952176102\n",
      "Num PCA comp: 5, reconstruction error: 21.414119663020994\n",
      "Num PCA comp: 6, reconstruction error: 21.320493227440718\n",
      "Num PCA comp: 7, reconstruction error: 20.5876413790446\n",
      "Num PCA comp: 8, reconstruction error: 20.252087796405124\n",
      "Num PCA comp: 9, reconstruction error: 18.679832776014933\n",
      "Num PCA comp: 10, reconstruction error: 17.546124900912144\n",
      "Num PCA comp: 11, reconstruction error: 16.224936504414735\n",
      "Num PCA comp: 12, reconstruction error: 15.731049040709859\n",
      "Num PCA comp: 13, reconstruction error: 15.68635972750467\n",
      "Num PCA comp: 14, reconstruction error: 15.594308245957164\n",
      "Num PCA comp: 15, reconstruction error: 15.38430893555315\n",
      "Num PCA comp: 16, reconstruction error: 15.384741708008328\n",
      "Num PCA comp: 17, reconstruction error: 15.333716759657849\n",
      "Num PCA comp: 18, reconstruction error: 15.144895887480065\n",
      "Num PCA comp: 19, reconstruction error: 15.148795641806629\n",
      "Num PCA comp: 20, reconstruction error: 14.88978951560124\n",
      "Num PCA comp: 21, reconstruction error: 14.587613151165312\n",
      "Num PCA comp: 22, reconstruction error: 13.826451715018939\n",
      "Num PCA comp: 23, reconstruction error: 13.32370403647662\n",
      "Num PCA comp: 24, reconstruction error: 13.32157695282996\n",
      "Num PCA comp: 25, reconstruction error: 13.25691253133647\n",
      "Num PCA comp: 26, reconstruction error: 13.214711345637172\n",
      "Num PCA comp: 27, reconstruction error: 13.331502095965204\n",
      "Num PCA comp: 28, reconstruction error: 13.34173224678695\n",
      "Num PCA comp: 29, reconstruction error: 13.241496539784297\n",
      "Num PCA comp: 30, reconstruction error: 12.140790529441938\n"
     ]
    },
    {
     "data": {
      "text/plain": [
       "[<matplotlib.lines.Line2D at 0x27bb6704550>]"
      ]
     },
     "execution_count": 125,
     "metadata": {},
     "output_type": "execute_result"
    },
    {
     "data": {
      "image/png": "[encoded data removed]",
      "text/plain": [
       "<Figure size 432x288 with 1 Axes>"
      ]
     },
     "metadata": {
      "needs_background": "light"
     },
     "output_type": "display_data"
    }
   ],
   "source": [
    "from numpy import linalg as LA\n",
    "\n",
    "imgActual = digits.data[IMG_NO, :]\n",
    "\n",
    "error_377 = []\n",
    "for i in np.arange(1,31):\n",
    "        \n",
    "        imgRecon = np.dot(pcaCoor[IMG_NO, 0:i], pcaMdl.components_[0:i,:])\n",
    "        imgRecon = scaler.inverse_transform(imgRecon)\n",
    "        \n",
    "        imgDiff = np.abs(imgActual - imgRecon)\n",
    "        \n",
    "        print('Num PCA comp: ' + str(i) + ', reconstruction error: ' + str(LA.norm(imgDiff.flatten())))\n",
    "        error_377.append(LA.norm(imgDiff.flatten()))\n",
    "        \n",
    "plt.plot(error_377)"
   ]
  },
  {
   "cell_type": "code",
   "execution_count": 75,
   "metadata": {},
   "outputs": [
    {
     "data": {
      "text/plain": [
       "<matplotlib.image.AxesImage at 0x27bb8639cc0>"
      ]
     },
     "execution_count": 75,
     "metadata": {},
     "output_type": "execute_result"
    },
    {
     "data": {
      "image/png": "[encoded data removed]",
      "text/plain": [
       "<Figure size 432x288 with 1 Axes>"
      ]
     },
     "metadata": {
      "needs_background": "light"
     },
     "output_type": "display_data"
    }
   ],
   "source": [
    "IMG_NO = 52\n",
    "NUM_COMP = 30\n",
    "\n",
    "imgRecon = np.dot(pcaCoor[IMG_NO, range(0,15,2)], pcaMdl.components_[ range(0,15,2),:])\n",
    "imgRecon = scaler.inverse_transform(imgRecon)\n",
    "f1 = imgRecon.reshape(imgSize)\n",
    "plt.imshow(f1, cmap='gray')"
   ]
  },
  {
   "cell_type": "code",
   "execution_count": 126,
   "metadata": {},
   "outputs": [
    {
     "name": "stdout",
     "output_type": "stream",
     "text": [
      "IMG_NO: 105,Num PCA comp: 5, reconstruction error: 25.370885934577043\n"
     ]
    }
   ],
   "source": [
    "from numpy import linalg as LA\n",
    "IMG_NO=105\n",
    "\n",
    "imgActual = digits.data[IMG_NO, :]\n",
    "\n",
    "ind = 5\n",
    "\n",
    "imgRecon = np.dot(pcaCoor[IMG_NO, 0:ind], pcaMdl.components_[0:ind,:])\n",
    "imgRecon = scaler.inverse_transform(imgRecon)\n",
    "\n",
    "imgDiff = np.abs(imgActual - imgRecon)\n",
    "\n",
    "print('IMG_NO: '+ str(IMG_NO)+',Num PCA comp: ' + str(ind) + ', reconstruction error: ' + str(LA.norm(imgDiff.flatten())))"
   ]
  },
  {
   "cell_type": "code",
   "execution_count": 127,
   "metadata": {},
   "outputs": [],
   "source": [
    "error=[0 for i in range(1797)]\n",
    "for i in range (0,1797):\n",
    "    imgActual = digits.data[i, :]\n",
    "    ind = 5\n",
    "    \n",
    "    imgRecon = np.dot(pcaCoor[i, 0:ind], pcaMdl.components_[0:ind,:])\n",
    "    imgRecon = scaler.inverse_transform(imgRecon)\n",
    "\n",
    "    imgDiff = np.abs(imgActual - imgRecon)\n",
    "    \n",
    "    error[i]=LA.norm(imgDiff.flatten())"
   ]
  },
  {
   "cell_type": "code",
   "execution_count": 131,
   "metadata": {},
   "outputs": [
    {
     "data": {
      "text/plain": [
       "[20.5263289591639,\n",
       " 23.07094915608566,\n",
       " 25.937220627396265,\n",
       " 22.797858579424116,\n",
       " 24.93472300253469,\n",
       " 26.08049337618924,\n",
       " 22.199070077357703,\n",
       " 27.157857602925045,\n",
       " 25.864135693773186,\n",
       " 23.786719350436098]"
      ]
     },
     "execution_count": 131,
     "metadata": {},
     "output_type": "execute_result"
    }
   ],
   "source": [
    "target_list=np.zeros([10])\n",
    "target_count=np.zeros([10])\n",
    "for i in range (0,1797):\n",
    "    target_count[digits.target[i]]=target_count[digits.target[i]]+1\n",
    "    target_list[digits.target[i]]=target_list[digits.target[i]]+error[i]\n",
    "avg_error=[0 for i in range(10)]\n",
    "for i in range (10):\n",
    "    avg_error[i]=target_list[i]/target_count[i]\n",
    "avg_error"
   ]
  },
  {
   "cell_type": "code",
   "execution_count": 132,
   "metadata": {},
   "outputs": [
    {
     "name": "stdout",
     "output_type": "stream",
     "text": [
      "The image with the smallest reconstruction error using 5 PCA components:642, its reconstruction error is 13.394860876762975\n",
      "The image with the largest reconstruction error using 5 PCA components:1572, its reconstruction error is 47.59162034944014\n",
      "The digit with the smallest average reconstruction error:0, its average reconstruction error is 20.5263289591639\n",
      "The digit with the largest average reconstruction error:7, its average reconstruction error is 27.157857602925045\n"
     ]
    }
   ],
   "source": [
    "print('The image with the smallest reconstruction error using 5 PCA components:'+str(error.index(min(error)))+', its reconstruction error is '+str(np.min(error)))\n",
    "print('The image with the largest reconstruction error using 5 PCA components:'+str(error.index(max(error)))+', its reconstruction error is '+str(np.max(error)))\n",
    "print('The digit with the smallest average reconstruction error:'+ str(avg_error.index(min(avg_error)))+', its average reconstruction error is '+str(np.min(avg_error)))\n",
    "print('The digit with the largest average reconstruction error:'+ str(avg_error.index(max(avg_error)))+', its average reconstruction error is '+str(np.max(avg_error)))"
   ]
  },
  {
   "cell_type": "markdown",
   "metadata": {},
   "source": [
    "### S4:\n",
    "- Plot reconstruction errors for all digit 3 images using 5 PCA components\n",
    "- Visualize reconstruction of first digit 3 image [1,3,5,7,9,11,13,15] PCA components\n",
    "- Q: What is the average reconstruction error for all digits 3 images using 5 PCA components?  ___"
   ]
  },
  {
   "cell_type": "code",
   "execution_count": 137,
   "metadata": {},
   "outputs": [
    {
     "data": {
      "text/plain": [
       "[<matplotlib.lines.Line2D at 0x27bb81e9ac8>]"
      ]
     },
     "execution_count": 137,
     "metadata": {},
     "output_type": "execute_result"
    },
    {
     "data": {
      "image/png": "[encoded data removed]",
      "text/plain": [
       "<Figure size 432x288 with 1 Axes>"
      ]
     },
     "metadata": {
      "needs_background": "light"
     },
     "output_type": "display_data"
    }
   ],
   "source": [
    "error_three=[]\n",
    "for i in range(0,1797):\n",
    "    if(digits.target[i] == 3):\n",
    "        if (error_three==[]):\n",
    "            first_three=i\n",
    "        error_three.append(error[i])\n",
    "plt.plot(error_three)"
   ]
  },
  {
   "cell_type": "code",
   "execution_count": 150,
   "metadata": {},
   "outputs": [
    {
     "data": {
      "image/png": "[encoded data removed]",
      "text/plain": [
       "<Figure size 1152x720 with 8 Axes>"
      ]
     },
     "metadata": {
      "needs_background": "light"
     },
     "output_type": "display_data"
    }
   ],
   "source": [
    "IMG_NO=first_three\n",
    "fig, axs = plt.subplots(2, 4, figsize = [ 16, 10])\n",
    "for i in range(0,15,2):\n",
    "        ind = i\n",
    "\n",
    "        imgRecon = np.dot(pcaCoor[IMG_NO,0:ind], pcaMdl.components_[0:ind,:])\n",
    "        imgRecon = scaler.inverse_transform(imgRecon)\n",
    "        f1 = imgRecon.reshape(imgSize)\n",
    "        axs[int((i/2)/4),int((i/2)%4)].imshow(f1, cmap='gray')\n",
    "plt.show()"
   ]
  },
  {
   "cell_type": "code",
   "execution_count": 154,
   "metadata": {},
   "outputs": [
    {
     "name": "stdout",
     "output_type": "stream",
     "text": [
      "The average reconstruction error for all digits 3 images using 5 PCA components:22.79785857942411\n"
     ]
    }
   ],
   "source": [
    "print('The average reconstruction error for all digits 3 images using 5 PCA components:'+str(np.average(error_three)))"
   ]
  },
  {
   "cell_type": "markdown",
   "metadata": {},
   "source": [
    "### S5:\n",
    "- Create a new dataset with only digit 3 images\n",
    "- Apply PCA\n",
    "- Calculate eigenvectors (PCA components) and eigenvalues for the data\n",
    "- Plot variance explained by principal components\n",
    "- Plot reconstruction errors for all digit 3 images using 5 PCA components\n",
    "- Visualize reconstruction of first digit 3 image [1,3,5,7,9,11,13,15] PCA components\n",
    "- Q: What is the average reconstruction error for all digits 3 images using 5 PCA components?  ___\n",
    "- Q: Comment on the differences for reconstruction errors for digit 3 images using the two PCA models (complete set vs only digit 3 images)? "
   ]
  },
  {
   "cell_type": "code",
   "execution_count": 172,
   "metadata": {},
   "outputs": [],
   "source": [
    "digit_three = []\n",
    "for i in range(0,1797):\n",
    "    if(digits.target[i] == 3):\n",
    "        digit_three.append(digits.data[i])"
   ]
  },
  {
   "cell_type": "code",
   "execution_count": 173,
   "metadata": {},
   "outputs": [],
   "source": [
    "scaler.fit(digit_three)\n",
    "X_3 = scaler.transform(digit_three)\n",
    "NUM_COMP = 30\n",
    "pca = PCA(n_components = NUM_COMP)\n",
    "pcaMdl = pca.fit(X_3)\n",
    "pcaCoor = pcaMdl.transform(X_3)\n",
    "dfPCA = pd.DataFrame(data = pcaCoor, columns = ['PCA_' + s for s in np.arange(0, NUM_COMP).astype(str)])"
   ]
  },
  {
   "cell_type": "code",
   "execution_count": 174,
   "metadata": {},
   "outputs": [
    {
     "data": {
      "text/html": [
       "<div>\n",
       "<style scoped>\n",
       "    .dataframe tbody tr th:only-of-type {\n",
       "        vertical-align: middle;\n",
       "    }\n",
       "\n",
       "    .dataframe tbody tr th {\n",
       "        vertical-align: top;\n",
       "    }\n",
       "\n",
       "    .dataframe thead th {\n",
       "        text-align: right;\n",
       "    }\n",
       "</style>\n",
       "<table border=\"1\" class=\"dataframe\">\n",
       "  <thead>\n",
       "    <tr style=\"text-align: right;\">\n",
       "      <th></th>\n",
       "      <th>PCA_0</th>\n",
       "      <th>PCA_1</th>\n",
       "      <th>PCA_2</th>\n",
       "      <th>PCA_3</th>\n",
       "      <th>PCA_4</th>\n",
       "      <th>PCA_5</th>\n",
       "      <th>PCA_6</th>\n",
       "      <th>PCA_7</th>\n",
       "      <th>PCA_8</th>\n",
       "      <th>PCA_9</th>\n",
       "      <th>...</th>\n",
       "      <th>PCA_54</th>\n",
       "      <th>PCA_55</th>\n",
       "      <th>PCA_56</th>\n",
       "      <th>PCA_57</th>\n",
       "      <th>PCA_58</th>\n",
       "      <th>PCA_59</th>\n",
       "      <th>PCA_60</th>\n",
       "      <th>PCA_61</th>\n",
       "      <th>PCA_62</th>\n",
       "      <th>PCA_63</th>\n",
       "    </tr>\n",
       "  </thead>\n",
       "  <tbody>\n",
       "    <tr>\n",
       "      <th>0</th>\n",
       "      <td>-2.830134e-18</td>\n",
       "      <td>0.151134</td>\n",
       "      <td>0.173863</td>\n",
       "      <td>0.122067</td>\n",
       "      <td>0.079110</td>\n",
       "      <td>0.158250</td>\n",
       "      <td>0.178635</td>\n",
       "      <td>0.078319</td>\n",
       "      <td>-0.034231</td>\n",
       "      <td>-0.051500</td>\n",
       "      <td>...</td>\n",
       "      <td>-0.255258</td>\n",
       "      <td>-0.103790</td>\n",
       "      <td>-0.0</td>\n",
       "      <td>0.156737</td>\n",
       "      <td>0.188892</td>\n",
       "      <td>0.096933</td>\n",
       "      <td>-0.189018</td>\n",
       "      <td>-0.250675</td>\n",
       "      <td>-0.201964</td>\n",
       "      <td>-0.094357</td>\n",
       "    </tr>\n",
       "    <tr>\n",
       "      <th>1</th>\n",
       "      <td>-5.502940e-18</td>\n",
       "      <td>-0.100319</td>\n",
       "      <td>-0.231413</td>\n",
       "      <td>-0.248388</td>\n",
       "      <td>0.119894</td>\n",
       "      <td>0.203644</td>\n",
       "      <td>0.139158</td>\n",
       "      <td>0.056188</td>\n",
       "      <td>0.000721</td>\n",
       "      <td>-0.089093</td>\n",
       "      <td>...</td>\n",
       "      <td>0.038519</td>\n",
       "      <td>0.142984</td>\n",
       "      <td>0.0</td>\n",
       "      <td>-0.057811</td>\n",
       "      <td>-0.206220</td>\n",
       "      <td>-0.245254</td>\n",
       "      <td>-0.061516</td>\n",
       "      <td>0.065969</td>\n",
       "      <td>0.224190</td>\n",
       "      <td>0.143852</td>\n",
       "    </tr>\n",
       "    <tr>\n",
       "      <th>2</th>\n",
       "      <td>5.556216e-18</td>\n",
       "      <td>-0.023635</td>\n",
       "      <td>-0.115889</td>\n",
       "      <td>-0.163617</td>\n",
       "      <td>-0.079133</td>\n",
       "      <td>-0.107528</td>\n",
       "      <td>-0.011045</td>\n",
       "      <td>0.070853</td>\n",
       "      <td>-0.006535</td>\n",
       "      <td>-0.013845</td>\n",
       "      <td>...</td>\n",
       "      <td>-0.029462</td>\n",
       "      <td>0.106238</td>\n",
       "      <td>0.0</td>\n",
       "      <td>-0.037859</td>\n",
       "      <td>-0.102543</td>\n",
       "      <td>-0.134864</td>\n",
       "      <td>-0.094550</td>\n",
       "      <td>-0.034020</td>\n",
       "      <td>0.078967</td>\n",
       "      <td>0.122892</td>\n",
       "    </tr>\n",
       "    <tr>\n",
       "      <th>3</th>\n",
       "      <td>-1.277335e-18</td>\n",
       "      <td>-0.107994</td>\n",
       "      <td>-0.131716</td>\n",
       "      <td>-0.021725</td>\n",
       "      <td>-0.077037</td>\n",
       "      <td>-0.074693</td>\n",
       "      <td>0.080355</td>\n",
       "      <td>0.084175</td>\n",
       "      <td>-0.157222</td>\n",
       "      <td>-0.269960</td>\n",
       "      <td>...</td>\n",
       "      <td>-0.107901</td>\n",
       "      <td>-0.065878</td>\n",
       "      <td>0.0</td>\n",
       "      <td>-0.040076</td>\n",
       "      <td>-0.143045</td>\n",
       "      <td>-0.048382</td>\n",
       "      <td>-0.097892</td>\n",
       "      <td>-0.110300</td>\n",
       "      <td>-0.080155</td>\n",
       "      <td>-0.067460</td>\n",
       "    </tr>\n",
       "    <tr>\n",
       "      <th>4</th>\n",
       "      <td>4.939296e-18</td>\n",
       "      <td>-0.012188</td>\n",
       "      <td>0.049775</td>\n",
       "      <td>0.067158</td>\n",
       "      <td>0.014792</td>\n",
       "      <td>-0.032462</td>\n",
       "      <td>0.092352</td>\n",
       "      <td>0.138922</td>\n",
       "      <td>0.061960</td>\n",
       "      <td>0.028639</td>\n",
       "      <td>...</td>\n",
       "      <td>0.123980</td>\n",
       "      <td>0.013354</td>\n",
       "      <td>0.0</td>\n",
       "      <td>-0.038371</td>\n",
       "      <td>0.039197</td>\n",
       "      <td>-0.004396</td>\n",
       "      <td>0.009416</td>\n",
       "      <td>0.125509</td>\n",
       "      <td>0.084172</td>\n",
       "      <td>-0.019684</td>\n",
       "    </tr>\n",
       "  </tbody>\n",
       "</table>\n",
       "<p>5 rows × 64 columns</p>\n",
       "</div>"
      ],
      "text/plain": [
       "          PCA_0     PCA_1     PCA_2     PCA_3     PCA_4     PCA_5     PCA_6  \\\n",
       "0 -2.830134e-18  0.151134  0.173863  0.122067  0.079110  0.158250  0.178635   \n",
       "1 -5.502940e-18 -0.100319 -0.231413 -0.248388  0.119894  0.203644  0.139158   \n",
       "2  5.556216e-18 -0.023635 -0.115889 -0.163617 -0.079133 -0.107528 -0.011045   \n",
       "3 -1.277335e-18 -0.107994 -0.131716 -0.021725 -0.077037 -0.074693  0.080355   \n",
       "4  4.939296e-18 -0.012188  0.049775  0.067158  0.014792 -0.032462  0.092352   \n",
       "\n",
       "      PCA_7     PCA_8     PCA_9  ...    PCA_54    PCA_55  PCA_56    PCA_57  \\\n",
       "0  0.078319 -0.034231 -0.051500  ... -0.255258 -0.103790    -0.0  0.156737   \n",
       "1  0.056188  0.000721 -0.089093  ...  0.038519  0.142984     0.0 -0.057811   \n",
       "2  0.070853 -0.006535 -0.013845  ... -0.029462  0.106238     0.0 -0.037859   \n",
       "3  0.084175 -0.157222 -0.269960  ... -0.107901 -0.065878     0.0 -0.040076   \n",
       "4  0.138922  0.061960  0.028639  ...  0.123980  0.013354     0.0 -0.038371   \n",
       "\n",
       "     PCA_58    PCA_59    PCA_60    PCA_61    PCA_62    PCA_63  \n",
       "0  0.188892  0.096933 -0.189018 -0.250675 -0.201964 -0.094357  \n",
       "1 -0.206220 -0.245254 -0.061516  0.065969  0.224190  0.143852  \n",
       "2 -0.102543 -0.134864 -0.094550 -0.034020  0.078967  0.122892  \n",
       "3 -0.143045 -0.048382 -0.097892 -0.110300 -0.080155 -0.067460  \n",
       "4  0.039197 -0.004396  0.009416  0.125509  0.084172 -0.019684  \n",
       "\n",
       "[5 rows x 64 columns]"
      ]
     },
     "execution_count": 174,
     "metadata": {},
     "output_type": "execute_result"
    }
   ],
   "source": [
    "eigenvectors_3=pcaMdl.components_\n",
    "dfeigenvectors_3  = pd.DataFrame(data = eigenvectors_3, columns = ['PCA_' + s for s in np.arange(0, 64).astype(str)])\n",
    "dfeigenvectors_3.head()"
   ]
  },
  {
   "cell_type": "code",
   "execution_count": 175,
   "metadata": {},
   "outputs": [
    {
     "data": {
      "text/html": [
       "<div>\n",
       "<style scoped>\n",
       "    .dataframe tbody tr th:only-of-type {\n",
       "        vertical-align: middle;\n",
       "    }\n",
       "\n",
       "    .dataframe tbody tr th {\n",
       "        vertical-align: top;\n",
       "    }\n",
       "\n",
       "    .dataframe thead th {\n",
       "        text-align: right;\n",
       "    }\n",
       "</style>\n",
       "<table border=\"1\" class=\"dataframe\">\n",
       "  <thead>\n",
       "    <tr style=\"text-align: right;\">\n",
       "      <th></th>\n",
       "      <th>eigenvalues</th>\n",
       "    </tr>\n",
       "  </thead>\n",
       "  <tbody>\n",
       "    <tr>\n",
       "      <th>0</th>\n",
       "      <td>8.422801</td>\n",
       "    </tr>\n",
       "    <tr>\n",
       "      <th>1</th>\n",
       "      <td>6.144575</td>\n",
       "    </tr>\n",
       "    <tr>\n",
       "      <th>2</th>\n",
       "      <td>4.784417</td>\n",
       "    </tr>\n",
       "    <tr>\n",
       "      <th>3</th>\n",
       "      <td>3.831739</td>\n",
       "    </tr>\n",
       "    <tr>\n",
       "      <th>4</th>\n",
       "      <td>2.955821</td>\n",
       "    </tr>\n",
       "  </tbody>\n",
       "</table>\n",
       "</div>"
      ],
      "text/plain": [
       "   eigenvalues\n",
       "0     8.422801\n",
       "1     6.144575\n",
       "2     4.784417\n",
       "3     3.831739\n",
       "4     2.955821"
      ]
     },
     "execution_count": 175,
     "metadata": {},
     "output_type": "execute_result"
    }
   ],
   "source": [
    "eigenvalues_3 = pcaMdl.explained_variance_\n",
    "dfeigenvalues_3  = pd.DataFrame(data = eigenvalues_3, columns = ['eigenvalues'])\n",
    "dfeigenvalues_3.head()"
   ]
  },
  {
   "cell_type": "code",
   "execution_count": 176,
   "metadata": {},
   "outputs": [
    {
     "data": {
      "text/plain": [
       "[<matplotlib.lines.Line2D at 0x27bb6f26320>]"
      ]
     },
     "execution_count": 176,
     "metadata": {},
     "output_type": "execute_result"
    },
    {
     "data": {
      "image/png": "[encoded data removed]",
      "text/plain": [
       "<Figure size 432x288 with 1 Axes>"
      ]
     },
     "metadata": {
      "needs_background": "light"
     },
     "output_type": "display_data"
    }
   ],
   "source": [
    "plt.plot(pcaMdl.explained_variance_ratio_)"
   ]
  },
  {
   "cell_type": "code",
   "execution_count": 180,
   "metadata": {},
   "outputs": [
    {
     "data": {
      "text/plain": [
       "[<matplotlib.lines.Line2D at 0x27bb6e5c6d8>]"
      ]
     },
     "execution_count": 180,
     "metadata": {},
     "output_type": "execute_result"
    },
    {
     "data": {
      "image/png": "[encoded data removed]",
      "text/plain": [
       "<Figure size 432x288 with 1 Axes>"
      ]
     },
     "metadata": {
      "needs_background": "light"
     },
     "output_type": "display_data"
    }
   ],
   "source": [
    "ind = 5\n",
    "error_digits_three = []\n",
    "for i in range(0,len(digit_three)):\n",
    "        imgActual = digit_three[i]\n",
    "        imgRecon = np.dot(pcaCoor[i, 0:ind], pcaMdl.components_[0:ind,:])\n",
    "        imgRecon = scaler.inverse_transform(imgRecon)\n",
    "        imgDiff = np.abs(imgActual - imgRecon)\n",
    "        error_digits_three.append(LA.norm(imgDiff.flatten()))\n",
    "plt.plot(error_digits_three)      "
   ]
  },
  {
   "cell_type": "code",
   "execution_count": 181,
   "metadata": {},
   "outputs": [
    {
     "data": {
      "image/png": "[encoded data removed]",
      "text/plain": [
       "<Figure size 1152x720 with 8 Axes>"
      ]
     },
     "metadata": {
      "needs_background": "light"
     },
     "output_type": "display_data"
    }
   ],
   "source": [
    "IMG_NO=0\n",
    "fig, axs = plt.subplots(2, 4, figsize = [ 16, 10])\n",
    "for i in range(0,15,2):\n",
    "        ind = i\n",
    "\n",
    "        imgRecon = np.dot(pcaCoor[IMG_NO,0:ind], pcaMdl.components_[0:ind,:])\n",
    "        imgRecon = scaler.inverse_transform(imgRecon)\n",
    "        f1 = imgRecon.reshape(imgSize)\n",
    "        axs[int((i/2)/4),int((i/2)%4)].imshow(f1, cmap='gray')\n",
    "plt.show()"
   ]
  },
  {
   "cell_type": "code",
   "execution_count": 182,
   "metadata": {},
   "outputs": [
    {
     "data": {
      "text/plain": [
       "16.270214468754197"
      ]
     },
     "execution_count": 182,
     "metadata": {},
     "output_type": "execute_result"
    }
   ],
   "source": [
    "np.average(error_digits_three)"
   ]
  },
  {
   "cell_type": "markdown",
   "metadata": {},
   "source": [
    "### S6:\n",
    "- Randomly split the complete dataset into 2 (60% training 40% testing)\n",
    "- Train an SVM classifier (rbf kernel, default parameters) using the training data\n",
    "- Calculate testing prediction accuracy of the trained model\n",
    "- Repeat the previous steps after applying PCA on the initial dataset and reducing the data dimensionality. Calculate prediction accuracy for 2, 5, 10 and 20 components\n",
    "- Q: Which model obtains the highest classification accuracy?  ___"
   ]
  },
  {
   "cell_type": "code",
   "execution_count": 186,
   "metadata": {},
   "outputs": [],
   "source": [
    "from sklearn.model_selection import train_test_split\n",
    "from sklearn.multiclass import OneVsRestClassifier\n",
    "\n",
    "X = digits.data\n",
    "y = digits.target\n",
    "\n",
    "X_train, X_test, y_train, y_test = train_test_split(X, y, test_size=.4, random_state=42)"
   ]
  },
  {
   "cell_type": "code",
   "execution_count": 189,
   "metadata": {},
   "outputs": [
    {
     "name": "stderr",
     "output_type": "stream",
     "text": [
      "C:\\Users\\Yichen\\Anaconda3\\envs\\musa-620\\lib\\site-packages\\sklearn\\svm\\base.py:193: FutureWarning: The default value of gamma will change from 'auto' to 'scale' in version 0.22 to account better for unscaled features. Set gamma explicitly to 'auto' or 'scale' to avoid this warning.\n",
      "  \"avoid this warning.\", FutureWarning)\n",
      "C:\\Users\\Yichen\\Anaconda3\\envs\\musa-620\\lib\\site-packages\\sklearn\\svm\\base.py:193: FutureWarning: The default value of gamma will change from 'auto' to 'scale' in version 0.22 to account better for unscaled features. Set gamma explicitly to 'auto' or 'scale' to avoid this warning.\n",
      "  \"avoid this warning.\", FutureWarning)\n",
      "C:\\Users\\Yichen\\Anaconda3\\envs\\musa-620\\lib\\site-packages\\sklearn\\svm\\base.py:193: FutureWarning: The default value of gamma will change from 'auto' to 'scale' in version 0.22 to account better for unscaled features. Set gamma explicitly to 'auto' or 'scale' to avoid this warning.\n",
      "  \"avoid this warning.\", FutureWarning)\n",
      "C:\\Users\\Yichen\\Anaconda3\\envs\\musa-620\\lib\\site-packages\\sklearn\\svm\\base.py:193: FutureWarning: The default value of gamma will change from 'auto' to 'scale' in version 0.22 to account better for unscaled features. Set gamma explicitly to 'auto' or 'scale' to avoid this warning.\n",
      "  \"avoid this warning.\", FutureWarning)\n",
      "C:\\Users\\Yichen\\Anaconda3\\envs\\musa-620\\lib\\site-packages\\sklearn\\svm\\base.py:193: FutureWarning: The default value of gamma will change from 'auto' to 'scale' in version 0.22 to account better for unscaled features. Set gamma explicitly to 'auto' or 'scale' to avoid this warning.\n",
      "  \"avoid this warning.\", FutureWarning)\n",
      "C:\\Users\\Yichen\\Anaconda3\\envs\\musa-620\\lib\\site-packages\\sklearn\\svm\\base.py:193: FutureWarning: The default value of gamma will change from 'auto' to 'scale' in version 0.22 to account better for unscaled features. Set gamma explicitly to 'auto' or 'scale' to avoid this warning.\n",
      "  \"avoid this warning.\", FutureWarning)\n",
      "C:\\Users\\Yichen\\Anaconda3\\envs\\musa-620\\lib\\site-packages\\sklearn\\svm\\base.py:193: FutureWarning: The default value of gamma will change from 'auto' to 'scale' in version 0.22 to account better for unscaled features. Set gamma explicitly to 'auto' or 'scale' to avoid this warning.\n",
      "  \"avoid this warning.\", FutureWarning)\n",
      "C:\\Users\\Yichen\\Anaconda3\\envs\\musa-620\\lib\\site-packages\\sklearn\\svm\\base.py:193: FutureWarning: The default value of gamma will change from 'auto' to 'scale' in version 0.22 to account better for unscaled features. Set gamma explicitly to 'auto' or 'scale' to avoid this warning.\n",
      "  \"avoid this warning.\", FutureWarning)\n",
      "C:\\Users\\Yichen\\Anaconda3\\envs\\musa-620\\lib\\site-packages\\sklearn\\svm\\base.py:193: FutureWarning: The default value of gamma will change from 'auto' to 'scale' in version 0.22 to account better for unscaled features. Set gamma explicitly to 'auto' or 'scale' to avoid this warning.\n",
      "  \"avoid this warning.\", FutureWarning)\n",
      "C:\\Users\\Yichen\\Anaconda3\\envs\\musa-620\\lib\\site-packages\\sklearn\\svm\\base.py:193: FutureWarning: The default value of gamma will change from 'auto' to 'scale' in version 0.22 to account better for unscaled features. Set gamma explicitly to 'auto' or 'scale' to avoid this warning.\n",
      "  \"avoid this warning.\", FutureWarning)\n",
      "C:\\Users\\Yichen\\Anaconda3\\envs\\musa-620\\lib\\site-packages\\sklearn\\svm\\base.py:193: FutureWarning: The default value of gamma will change from 'auto' to 'scale' in version 0.22 to account better for unscaled features. Set gamma explicitly to 'auto' or 'scale' to avoid this warning.\n",
      "  \"avoid this warning.\", FutureWarning)\n",
      "C:\\Users\\Yichen\\Anaconda3\\envs\\musa-620\\lib\\site-packages\\sklearn\\svm\\base.py:193: FutureWarning: The default value of gamma will change from 'auto' to 'scale' in version 0.22 to account better for unscaled features. Set gamma explicitly to 'auto' or 'scale' to avoid this warning.\n",
      "  \"avoid this warning.\", FutureWarning)\n",
      "C:\\Users\\Yichen\\Anaconda3\\envs\\musa-620\\lib\\site-packages\\sklearn\\svm\\base.py:193: FutureWarning: The default value of gamma will change from 'auto' to 'scale' in version 0.22 to account better for unscaled features. Set gamma explicitly to 'auto' or 'scale' to avoid this warning.\n",
      "  \"avoid this warning.\", FutureWarning)\n",
      "C:\\Users\\Yichen\\Anaconda3\\envs\\musa-620\\lib\\site-packages\\sklearn\\svm\\base.py:193: FutureWarning: The default value of gamma will change from 'auto' to 'scale' in version 0.22 to account better for unscaled features. Set gamma explicitly to 'auto' or 'scale' to avoid this warning.\n",
      "  \"avoid this warning.\", FutureWarning)\n",
      "C:\\Users\\Yichen\\Anaconda3\\envs\\musa-620\\lib\\site-packages\\sklearn\\svm\\base.py:193: FutureWarning: The default value of gamma will change from 'auto' to 'scale' in version 0.22 to account better for unscaled features. Set gamma explicitly to 'auto' or 'scale' to avoid this warning.\n",
      "  \"avoid this warning.\", FutureWarning)\n",
      "C:\\Users\\Yichen\\Anaconda3\\envs\\musa-620\\lib\\site-packages\\sklearn\\svm\\base.py:193: FutureWarning: The default value of gamma will change from 'auto' to 'scale' in version 0.22 to account better for unscaled features. Set gamma explicitly to 'auto' or 'scale' to avoid this warning.\n",
      "  \"avoid this warning.\", FutureWarning)\n",
      "C:\\Users\\Yichen\\Anaconda3\\envs\\musa-620\\lib\\site-packages\\sklearn\\svm\\base.py:193: FutureWarning: The default value of gamma will change from 'auto' to 'scale' in version 0.22 to account better for unscaled features. Set gamma explicitly to 'auto' or 'scale' to avoid this warning.\n",
      "  \"avoid this warning.\", FutureWarning)\n",
      "C:\\Users\\Yichen\\Anaconda3\\envs\\musa-620\\lib\\site-packages\\sklearn\\svm\\base.py:193: FutureWarning: The default value of gamma will change from 'auto' to 'scale' in version 0.22 to account better for unscaled features. Set gamma explicitly to 'auto' or 'scale' to avoid this warning.\n",
      "  \"avoid this warning.\", FutureWarning)\n",
      "C:\\Users\\Yichen\\Anaconda3\\envs\\musa-620\\lib\\site-packages\\sklearn\\svm\\base.py:193: FutureWarning: The default value of gamma will change from 'auto' to 'scale' in version 0.22 to account better for unscaled features. Set gamma explicitly to 'auto' or 'scale' to avoid this warning.\n",
      "  \"avoid this warning.\", FutureWarning)\n",
      "C:\\Users\\Yichen\\Anaconda3\\envs\\musa-620\\lib\\site-packages\\sklearn\\svm\\base.py:193: FutureWarning: The default value of gamma will change from 'auto' to 'scale' in version 0.22 to account better for unscaled features. Set gamma explicitly to 'auto' or 'scale' to avoid this warning.\n",
      "  \"avoid this warning.\", FutureWarning)\n"
     ]
    },
    {
     "data": {
      "text/plain": [
       "0.7621696801112656"
      ]
     },
     "execution_count": 189,
     "metadata": {},
     "output_type": "execute_result"
    }
   ],
   "source": [
    "mdlSVM = OneVsRestClassifier(svm.SVC(kernel='rbf', probability=True, random_state=42))\n",
    "y_score = mdlSVM.fit(X_train, y_train).decision_function(X_test)\n",
    "y_score = mdlSVM.fit(X_train, y_train).score(X_test, y_test)\n",
    "y_score"
   ]
  },
  {
   "cell_type": "code",
   "execution_count": 196,
   "metadata": {},
   "outputs": [],
   "source": [
    "X = scaler.transform(X)\n",
    "NUM_COMP = 30\n",
    "pca = PCA(n_components = NUM_COMP)\n",
    "pcaMdl = pca.fit(X)\n",
    "pcaCoor = pcaMdl.transform(X)"
   ]
  },
  {
   "cell_type": "code",
   "execution_count": 201,
   "metadata": {},
   "outputs": [],
   "source": [
    "X_2 = []\n",
    "X_5 = []\n",
    "X_10 = []\n",
    "X_20 = []\n",
    "com = [2,5,10,20]\n",
    "\n",
    "for i in range(0,len(pcaCoor)):\n",
    "    for j in range(0,4):\n",
    "        imgRecon = np.dot(pcaCoor[i,0:com[j]], pcaMdl.components_[0:com[j],:])\n",
    "        imgRecon = scaler.inverse_transform(imgRecon)\n",
    "        if(j == 0):\n",
    "            X_2.append(imgRecon)\n",
    "        elif(j == 1):\n",
    "            X_5.append(imgRecon)\n",
    "        elif(j == 2):\n",
    "            X_10.append(imgRecon)\n",
    "        elif(j == 3):\n",
    "            X_20.append(imgRecon)\n",
    "Total=[X_2,X_5,X_10,X_20]"
   ]
  },
  {
   "cell_type": "code",
   "execution_count": 212,
   "metadata": {},
   "outputs": [
    {
     "name": "stderr",
     "output_type": "stream",
     "text": [
      "C:\\Users\\Yichen\\Anaconda3\\envs\\musa-620\\lib\\site-packages\\sklearn\\svm\\base.py:193: FutureWarning: The default value of gamma will change from 'auto' to 'scale' in version 0.22 to account better for unscaled features. Set gamma explicitly to 'auto' or 'scale' to avoid this warning.\n",
      "  \"avoid this warning.\", FutureWarning)\n",
      "C:\\Users\\Yichen\\Anaconda3\\envs\\musa-620\\lib\\site-packages\\sklearn\\svm\\base.py:193: FutureWarning: The default value of gamma will change from 'auto' to 'scale' in version 0.22 to account better for unscaled features. Set gamma explicitly to 'auto' or 'scale' to avoid this warning.\n",
      "  \"avoid this warning.\", FutureWarning)\n",
      "C:\\Users\\Yichen\\Anaconda3\\envs\\musa-620\\lib\\site-packages\\sklearn\\svm\\base.py:193: FutureWarning: The default value of gamma will change from 'auto' to 'scale' in version 0.22 to account better for unscaled features. Set gamma explicitly to 'auto' or 'scale' to avoid this warning.\n",
      "  \"avoid this warning.\", FutureWarning)\n",
      "C:\\Users\\Yichen\\Anaconda3\\envs\\musa-620\\lib\\site-packages\\sklearn\\svm\\base.py:193: FutureWarning: The default value of gamma will change from 'auto' to 'scale' in version 0.22 to account better for unscaled features. Set gamma explicitly to 'auto' or 'scale' to avoid this warning.\n",
      "  \"avoid this warning.\", FutureWarning)\n",
      "C:\\Users\\Yichen\\Anaconda3\\envs\\musa-620\\lib\\site-packages\\sklearn\\svm\\base.py:193: FutureWarning: The default value of gamma will change from 'auto' to 'scale' in version 0.22 to account better for unscaled features. Set gamma explicitly to 'auto' or 'scale' to avoid this warning.\n",
      "  \"avoid this warning.\", FutureWarning)\n",
      "C:\\Users\\Yichen\\Anaconda3\\envs\\musa-620\\lib\\site-packages\\sklearn\\svm\\base.py:193: FutureWarning: The default value of gamma will change from 'auto' to 'scale' in version 0.22 to account better for unscaled features. Set gamma explicitly to 'auto' or 'scale' to avoid this warning.\n",
      "  \"avoid this warning.\", FutureWarning)\n",
      "C:\\Users\\Yichen\\Anaconda3\\envs\\musa-620\\lib\\site-packages\\sklearn\\svm\\base.py:193: FutureWarning: The default value of gamma will change from 'auto' to 'scale' in version 0.22 to account better for unscaled features. Set gamma explicitly to 'auto' or 'scale' to avoid this warning.\n",
      "  \"avoid this warning.\", FutureWarning)\n",
      "C:\\Users\\Yichen\\Anaconda3\\envs\\musa-620\\lib\\site-packages\\sklearn\\svm\\base.py:193: FutureWarning: The default value of gamma will change from 'auto' to 'scale' in version 0.22 to account better for unscaled features. Set gamma explicitly to 'auto' or 'scale' to avoid this warning.\n",
      "  \"avoid this warning.\", FutureWarning)\n",
      "C:\\Users\\Yichen\\Anaconda3\\envs\\musa-620\\lib\\site-packages\\sklearn\\svm\\base.py:193: FutureWarning: The default value of gamma will change from 'auto' to 'scale' in version 0.22 to account better for unscaled features. Set gamma explicitly to 'auto' or 'scale' to avoid this warning.\n",
      "  \"avoid this warning.\", FutureWarning)\n",
      "C:\\Users\\Yichen\\Anaconda3\\envs\\musa-620\\lib\\site-packages\\sklearn\\svm\\base.py:193: FutureWarning: The default value of gamma will change from 'auto' to 'scale' in version 0.22 to account better for unscaled features. Set gamma explicitly to 'auto' or 'scale' to avoid this warning.\n",
      "  \"avoid this warning.\", FutureWarning)\n",
      "C:\\Users\\Yichen\\Anaconda3\\envs\\musa-620\\lib\\site-packages\\sklearn\\svm\\base.py:193: FutureWarning: The default value of gamma will change from 'auto' to 'scale' in version 0.22 to account better for unscaled features. Set gamma explicitly to 'auto' or 'scale' to avoid this warning.\n",
      "  \"avoid this warning.\", FutureWarning)\n",
      "C:\\Users\\Yichen\\Anaconda3\\envs\\musa-620\\lib\\site-packages\\sklearn\\svm\\base.py:193: FutureWarning: The default value of gamma will change from 'auto' to 'scale' in version 0.22 to account better for unscaled features. Set gamma explicitly to 'auto' or 'scale' to avoid this warning.\n",
      "  \"avoid this warning.\", FutureWarning)\n",
      "C:\\Users\\Yichen\\Anaconda3\\envs\\musa-620\\lib\\site-packages\\sklearn\\svm\\base.py:193: FutureWarning: The default value of gamma will change from 'auto' to 'scale' in version 0.22 to account better for unscaled features. Set gamma explicitly to 'auto' or 'scale' to avoid this warning.\n",
      "  \"avoid this warning.\", FutureWarning)\n",
      "C:\\Users\\Yichen\\Anaconda3\\envs\\musa-620\\lib\\site-packages\\sklearn\\svm\\base.py:193: FutureWarning: The default value of gamma will change from 'auto' to 'scale' in version 0.22 to account better for unscaled features. Set gamma explicitly to 'auto' or 'scale' to avoid this warning.\n",
      "  \"avoid this warning.\", FutureWarning)\n",
      "C:\\Users\\Yichen\\Anaconda3\\envs\\musa-620\\lib\\site-packages\\sklearn\\svm\\base.py:193: FutureWarning: The default value of gamma will change from 'auto' to 'scale' in version 0.22 to account better for unscaled features. Set gamma explicitly to 'auto' or 'scale' to avoid this warning.\n",
      "  \"avoid this warning.\", FutureWarning)\n",
      "C:\\Users\\Yichen\\Anaconda3\\envs\\musa-620\\lib\\site-packages\\sklearn\\svm\\base.py:193: FutureWarning: The default value of gamma will change from 'auto' to 'scale' in version 0.22 to account better for unscaled features. Set gamma explicitly to 'auto' or 'scale' to avoid this warning.\n",
      "  \"avoid this warning.\", FutureWarning)\n",
      "C:\\Users\\Yichen\\Anaconda3\\envs\\musa-620\\lib\\site-packages\\sklearn\\svm\\base.py:193: FutureWarning: The default value of gamma will change from 'auto' to 'scale' in version 0.22 to account better for unscaled features. Set gamma explicitly to 'auto' or 'scale' to avoid this warning.\n",
      "  \"avoid this warning.\", FutureWarning)\n",
      "C:\\Users\\Yichen\\Anaconda3\\envs\\musa-620\\lib\\site-packages\\sklearn\\svm\\base.py:193: FutureWarning: The default value of gamma will change from 'auto' to 'scale' in version 0.22 to account better for unscaled features. Set gamma explicitly to 'auto' or 'scale' to avoid this warning.\n",
      "  \"avoid this warning.\", FutureWarning)\n",
      "C:\\Users\\Yichen\\Anaconda3\\envs\\musa-620\\lib\\site-packages\\sklearn\\svm\\base.py:193: FutureWarning: The default value of gamma will change from 'auto' to 'scale' in version 0.22 to account better for unscaled features. Set gamma explicitly to 'auto' or 'scale' to avoid this warning.\n",
      "  \"avoid this warning.\", FutureWarning)\n",
      "C:\\Users\\Yichen\\Anaconda3\\envs\\musa-620\\lib\\site-packages\\sklearn\\svm\\base.py:193: FutureWarning: The default value of gamma will change from 'auto' to 'scale' in version 0.22 to account better for unscaled features. Set gamma explicitly to 'auto' or 'scale' to avoid this warning.\n",
      "  \"avoid this warning.\", FutureWarning)\n",
      "C:\\Users\\Yichen\\Anaconda3\\envs\\musa-620\\lib\\site-packages\\sklearn\\svm\\base.py:193: FutureWarning: The default value of gamma will change from 'auto' to 'scale' in version 0.22 to account better for unscaled features. Set gamma explicitly to 'auto' or 'scale' to avoid this warning.\n",
      "  \"avoid this warning.\", FutureWarning)\n",
      "C:\\Users\\Yichen\\Anaconda3\\envs\\musa-620\\lib\\site-packages\\sklearn\\svm\\base.py:193: FutureWarning: The default value of gamma will change from 'auto' to 'scale' in version 0.22 to account better for unscaled features. Set gamma explicitly to 'auto' or 'scale' to avoid this warning.\n",
      "  \"avoid this warning.\", FutureWarning)\n",
      "C:\\Users\\Yichen\\Anaconda3\\envs\\musa-620\\lib\\site-packages\\sklearn\\svm\\base.py:193: FutureWarning: The default value of gamma will change from 'auto' to 'scale' in version 0.22 to account better for unscaled features. Set gamma explicitly to 'auto' or 'scale' to avoid this warning.\n",
      "  \"avoid this warning.\", FutureWarning)\n",
      "C:\\Users\\Yichen\\Anaconda3\\envs\\musa-620\\lib\\site-packages\\sklearn\\svm\\base.py:193: FutureWarning: The default value of gamma will change from 'auto' to 'scale' in version 0.22 to account better for unscaled features. Set gamma explicitly to 'auto' or 'scale' to avoid this warning.\n",
      "  \"avoid this warning.\", FutureWarning)\n",
      "C:\\Users\\Yichen\\Anaconda3\\envs\\musa-620\\lib\\site-packages\\sklearn\\svm\\base.py:193: FutureWarning: The default value of gamma will change from 'auto' to 'scale' in version 0.22 to account better for unscaled features. Set gamma explicitly to 'auto' or 'scale' to avoid this warning.\n",
      "  \"avoid this warning.\", FutureWarning)\n",
      "C:\\Users\\Yichen\\Anaconda3\\envs\\musa-620\\lib\\site-packages\\sklearn\\svm\\base.py:193: FutureWarning: The default value of gamma will change from 'auto' to 'scale' in version 0.22 to account better for unscaled features. Set gamma explicitly to 'auto' or 'scale' to avoid this warning.\n",
      "  \"avoid this warning.\", FutureWarning)\n"
     ]
    },
    {
     "name": "stderr",
     "output_type": "stream",
     "text": [
      "C:\\Users\\Yichen\\Anaconda3\\envs\\musa-620\\lib\\site-packages\\sklearn\\svm\\base.py:193: FutureWarning: The default value of gamma will change from 'auto' to 'scale' in version 0.22 to account better for unscaled features. Set gamma explicitly to 'auto' or 'scale' to avoid this warning.\n",
      "  \"avoid this warning.\", FutureWarning)\n",
      "C:\\Users\\Yichen\\Anaconda3\\envs\\musa-620\\lib\\site-packages\\sklearn\\svm\\base.py:193: FutureWarning: The default value of gamma will change from 'auto' to 'scale' in version 0.22 to account better for unscaled features. Set gamma explicitly to 'auto' or 'scale' to avoid this warning.\n",
      "  \"avoid this warning.\", FutureWarning)\n",
      "C:\\Users\\Yichen\\Anaconda3\\envs\\musa-620\\lib\\site-packages\\sklearn\\svm\\base.py:193: FutureWarning: The default value of gamma will change from 'auto' to 'scale' in version 0.22 to account better for unscaled features. Set gamma explicitly to 'auto' or 'scale' to avoid this warning.\n",
      "  \"avoid this warning.\", FutureWarning)\n",
      "C:\\Users\\Yichen\\Anaconda3\\envs\\musa-620\\lib\\site-packages\\sklearn\\svm\\base.py:193: FutureWarning: The default value of gamma will change from 'auto' to 'scale' in version 0.22 to account better for unscaled features. Set gamma explicitly to 'auto' or 'scale' to avoid this warning.\n",
      "  \"avoid this warning.\", FutureWarning)\n",
      "C:\\Users\\Yichen\\Anaconda3\\envs\\musa-620\\lib\\site-packages\\sklearn\\svm\\base.py:193: FutureWarning: The default value of gamma will change from 'auto' to 'scale' in version 0.22 to account better for unscaled features. Set gamma explicitly to 'auto' or 'scale' to avoid this warning.\n",
      "  \"avoid this warning.\", FutureWarning)\n",
      "C:\\Users\\Yichen\\Anaconda3\\envs\\musa-620\\lib\\site-packages\\sklearn\\svm\\base.py:193: FutureWarning: The default value of gamma will change from 'auto' to 'scale' in version 0.22 to account better for unscaled features. Set gamma explicitly to 'auto' or 'scale' to avoid this warning.\n",
      "  \"avoid this warning.\", FutureWarning)\n",
      "C:\\Users\\Yichen\\Anaconda3\\envs\\musa-620\\lib\\site-packages\\sklearn\\svm\\base.py:193: FutureWarning: The default value of gamma will change from 'auto' to 'scale' in version 0.22 to account better for unscaled features. Set gamma explicitly to 'auto' or 'scale' to avoid this warning.\n",
      "  \"avoid this warning.\", FutureWarning)\n",
      "C:\\Users\\Yichen\\Anaconda3\\envs\\musa-620\\lib\\site-packages\\sklearn\\svm\\base.py:193: FutureWarning: The default value of gamma will change from 'auto' to 'scale' in version 0.22 to account better for unscaled features. Set gamma explicitly to 'auto' or 'scale' to avoid this warning.\n",
      "  \"avoid this warning.\", FutureWarning)\n",
      "C:\\Users\\Yichen\\Anaconda3\\envs\\musa-620\\lib\\site-packages\\sklearn\\svm\\base.py:193: FutureWarning: The default value of gamma will change from 'auto' to 'scale' in version 0.22 to account better for unscaled features. Set gamma explicitly to 'auto' or 'scale' to avoid this warning.\n",
      "  \"avoid this warning.\", FutureWarning)\n",
      "C:\\Users\\Yichen\\Anaconda3\\envs\\musa-620\\lib\\site-packages\\sklearn\\svm\\base.py:193: FutureWarning: The default value of gamma will change from 'auto' to 'scale' in version 0.22 to account better for unscaled features. Set gamma explicitly to 'auto' or 'scale' to avoid this warning.\n",
      "  \"avoid this warning.\", FutureWarning)\n",
      "C:\\Users\\Yichen\\Anaconda3\\envs\\musa-620\\lib\\site-packages\\sklearn\\svm\\base.py:193: FutureWarning: The default value of gamma will change from 'auto' to 'scale' in version 0.22 to account better for unscaled features. Set gamma explicitly to 'auto' or 'scale' to avoid this warning.\n",
      "  \"avoid this warning.\", FutureWarning)\n",
      "C:\\Users\\Yichen\\Anaconda3\\envs\\musa-620\\lib\\site-packages\\sklearn\\svm\\base.py:193: FutureWarning: The default value of gamma will change from 'auto' to 'scale' in version 0.22 to account better for unscaled features. Set gamma explicitly to 'auto' or 'scale' to avoid this warning.\n",
      "  \"avoid this warning.\", FutureWarning)\n",
      "C:\\Users\\Yichen\\Anaconda3\\envs\\musa-620\\lib\\site-packages\\sklearn\\svm\\base.py:193: FutureWarning: The default value of gamma will change from 'auto' to 'scale' in version 0.22 to account better for unscaled features. Set gamma explicitly to 'auto' or 'scale' to avoid this warning.\n",
      "  \"avoid this warning.\", FutureWarning)\n",
      "C:\\Users\\Yichen\\Anaconda3\\envs\\musa-620\\lib\\site-packages\\sklearn\\svm\\base.py:193: FutureWarning: The default value of gamma will change from 'auto' to 'scale' in version 0.22 to account better for unscaled features. Set gamma explicitly to 'auto' or 'scale' to avoid this warning.\n",
      "  \"avoid this warning.\", FutureWarning)\n"
     ]
    }
   ],
   "source": [
    "scoreList=[]\n",
    "for i in range(0,4):\n",
    "    X_train, X_test, y_train, y_test = train_test_split(Total[i], y, test_size=.4, random_state=42)\n",
    "    y_score = mdlSVM.fit(X_train, y_train).score(X_test, y_test)\n",
    "    scoreList.append(y_score)"
   ]
  },
  {
   "cell_type": "code",
   "execution_count": 228,
   "metadata": {},
   "outputs": [
    {
     "data": {
      "text/plain": [
       "[0.3894297635605007,\n",
       " 0.7913769123783032,\n",
       " 0.9109874826147427,\n",
       " 0.9374130737134909]"
      ]
     },
     "execution_count": 228,
     "metadata": {},
     "output_type": "execute_result"
    }
   ],
   "source": [
    "scoreList"
   ]
  },
  {
   "cell_type": "markdown",
   "metadata": {},
   "source": [
    "Which model obtains the highest classification accuracy? 20\n",
    "and its score is 0.9374130737134909"
   ]
  }
 ],
 "metadata": {
  "kernelspec": {
   "display_name": "Python 3",
   "language": "python",
   "name": "python3"
  },
  "language_info": {
   "codemirror_mode": {
    "name": "ipython",
    "version": 3
   },
   "file_extension": ".py",
   "mimetype": "text/x-python",
   "name": "python",
   "nbconvert_exporter": "python",
   "pygments_lexer": "ipython3",
   "version": "3.6.9"
  }
 },
 "nbformat": 4,
 "nbformat_minor": 2
}
