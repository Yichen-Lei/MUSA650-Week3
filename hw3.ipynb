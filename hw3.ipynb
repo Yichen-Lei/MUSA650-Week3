{
 "cells": [
  {
   "cell_type": "markdown",
   "metadata": {},
   "source": [
    "## HW2 - Basics of ML"
   ]
  },
  {
   "cell_type": "markdown",
   "metadata": {},
   "source": [
    "### S1:\n",
    "- Load digits data\n",
    "- Visualize few images to check the data and labels\n",
    "- Normalize (scale) the data\n",
    "- Q: What is the number of features in this dataset:   ___\n",
    "- Q: What is the number of samples in this dataset:   ___"
   ]
  },
  {
   "cell_type": "markdown",
   "metadata": {},
   "source": [
    "### S2:\n",
    "- Apply PCA with 30 components\n",
    "- Calculate eigenvectors (PCA components) and eigenvalues for the data\n",
    "- Plot variance explained by principal components\n",
    "- Q: What is the variance explained by the first PCA component? ___\n",
    "- Q: What is the total variance explained by the first 5 PCA components? ___"
   ]
  },
  {
   "cell_type": "markdown",
   "metadata": {},
   "source": [
    "### S3:\n",
    "- Plot reconstruction error for image no. 377 using 1 to 30 PCA components\n",
    "- Visualize reconstructions of image no. 52 using [1,3,5,7,9,11,13,15] PCA components\n",
    "- Q: What is the reconstruction error for image no. 105 using 5 PCA components?  ___\n",
    "- Q: What is the image with the smallest reconstruction error using 5 PCA components? ___\n",
    "- Q: What is the image with the largest reconstruction error using 5 PCA components? ___\n",
    "- Q: What is the digit with the smallest average reconstruction error using 5 PCA components? ___\n",
    "- Q: What is the digit with the largest average reconstruction error using 5 PCA components? ___"
   ]
  },
  {
   "cell_type": "markdown",
   "metadata": {},
   "source": [
    "### S4:\n",
    "- Plot reconstruction errors for all digit 3 images using 5 PCA components\n",
    "- Visualize reconstruction of first digit 3 image [1,3,5,7,9,11,13,15] PCA components\n",
    "- Q: What is the average reconstruction error for all digits 3 images using 5 PCA components?  ___"
   ]
  },
  {
   "cell_type": "markdown",
   "metadata": {},
   "source": [
    "### S5:\n",
    "- Create a new dataset with only digit 3 images\n",
    "- Apply PCA\n",
    "- Calculate eigenvectors (PCA components) and eigenvalues for the data\n",
    "- Plot variance explained by principal components\n",
    "- Plot reconstruction errors for all digit 3 images using 5 PCA components\n",
    "- Visualize reconstruction of first digit 3 image [1,3,5,7,9,11,13,15] PCA components\n",
    "- Q: What is the average reconstruction error for all digits 3 images using 5 PCA components?  ___\n",
    "- Q: Comment on the differences for reconstruction errors for digit 3 images using the two PCA models (complete set vs only digit 3 images)? "
   ]
  },
  {
   "cell_type": "markdown",
   "metadata": {},
   "source": [
    "### S6:\n",
    "- Randomly split the complete dataset into 2 (60% training 40% testing)\n",
    "- Train an SVM classifier (rbf kernel, default parameters) using the training data\n",
    "- Calculate testing prediction accuracy of the trained model\n",
    "- Repeat the previous steps after applying PCA on the initial dataset and reducing the data dimensionality. Calculate prediction accuracy for 2, 5, 10 and 20 components\n",
    "- Q: Which model obtains the highest classification accuracy?  ___"
   ]
  }
 ],
 "metadata": {
  "kernelspec": {
   "display_name": "Python 3",
   "language": "python",
   "name": "python3"
  },
  "language_info": {
   "codemirror_mode": {
    "name": "ipython",
    "version": 3
   },
   "file_extension": ".py",
   "mimetype": "text/x-python",
   "name": "python",
   "nbconvert_exporter": "python",
   "pygments_lexer": "ipython3",
   "version": "3.7.3"
  }
 },
 "nbformat": 4,
 "nbformat_minor": 2
}
